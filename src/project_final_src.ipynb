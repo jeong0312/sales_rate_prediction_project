{
 "cells": [
  {
   "cell_type": "code",
   "execution_count": 3,
   "metadata": {},
   "outputs": [],
   "source": [
    "import numpy as np \n",
    "import pandas as pd \n",
    "import matplotlib.pyplot as plt\n",
    "import seaborn as sns\n",
    "import os\n",
    "from selenium import webdriver\n",
    "from bs4 import BeautifulSoup\n",
    "import time\n",
    "plt.rcParams['font.family'] = 'Malgun Gothic'"
   ]
  },
  {
   "cell_type": "code",
   "execution_count": 29,
   "metadata": {},
   "outputs": [],
   "source": [
    "from sklearn.model_selection import train_test_split\n",
    "from sklearn.ensemble import GradientBoostingRegressor\n",
    "\n",
    "def get_sales(dept_num, item_num, store_id): \n",
    "    df_train = pd.read_csv('./data/sales_train_df.csv', index_col=0) # 본인 파일 경로로 수정해야함\n",
    "    tmp = df_train[df_train['cat_id'] == 'FOODS'] # df_train에서 카테고리가 식품인 것만 마스킹\n",
    "    \n",
    "\n",
    "    if len(str(item_num)) == 1: # item_num 글자수에 따라 자릿수 3자리 맞춰주기 (8 -> 008)\n",
    "        tmp = df_train[df_train['item_id'] == f'FOODS_{dept_num}_00{item_num}']\n",
    "    elif len(str(item_num)) == 2:\n",
    "        tmp = df_train[df_train['item_id'] == f'FOODS_{dept_num}_0{item_num}']\n",
    "    else:\n",
    "        tmp = df_train[df_train['item_id'] == f'FOODS_{dept_num}_{item_num}']\n",
    "\n",
    "    d_ = [col for col in df_train.columns if \"d_\" in col]\n",
    "    store_sales = tmp.groupby('store_id')[d_].sum().T # 주별로 그룹\n",
    "    store_sales = store_sales.iloc[:1908,:]\n",
    "    return store_sales[store_id].values # 입력한 주의 판매량만 반환\n",
    "\n",
    "def predict_item_id_sales(store_id, dept_num, item_id, weekday, event, Temperatures, pop, unemployment_rate):\n",
    "    if (dept_num > 3) or (item_id < 1) or(dept_num == 1 and item_id > 219) or (dept_num == 2 and item_id > 399) or (dept_num == 3 and item_id > 827):\n",
    "        raise Exception('범위 에러: FOODS_1은 1~ 219, FOODS_2은 1~ 399, FOODS_3은 1~ 827 으로 다시 입력해주세요.')\n",
    "    \n",
    "    X_train = pd.read_csv('./variable_train_df.csv', index_col=0) # 본인 파일 경로로 수정해야함\n",
    "    state = X_train[X_train['state_id'] == store_id[:2]]\n",
    "    X = state[['weekday','event','평균기온', '매장당평균인구수', '실업률']]\n",
    "    y= [i for i in get_sales(dept_num, item_id, store_id)]\n",
    "    X_train, X_test, y_train, y_test = train_test_split(X,y,test_size=0.2, random_state=13)\n",
    "\n",
    "    lr1 = GradientBoostingRegressor()\n",
    "    model = lr1.fit(X_train, y_train)\n",
    "    y_pred = model.predict(pd.DataFrame(data={'weekday': [weekday, weekday], 'event':[event, event], '평균기온': [Temperatures, Temperatures], '매장당평균인구수': [pop, pop], '실업률': [unemployment_rate, unemployment_rate]}))\n",
    "    return round(y_pred[0])\n"
   ]
  },
  {
   "cell_type": "code",
   "execution_count": 30,
   "metadata": {},
   "outputs": [
    {
     "data": {
      "text/plain": [
       "133"
      ]
     },
     "execution_count": 30,
     "metadata": {},
     "output_type": "execute_result"
    }
   ],
   "source": [
    "predict_item_id_sales('CA_3', 3, 90, 1, 1, 30, 120800, 10)"
   ]
  },
  {
   "cell_type": "code",
   "execution_count": 37,
   "metadata": {},
   "outputs": [],
   "source": [
    "def print_result():\n",
    "    print('===========================================')\n",
    "    print('안녕하세요 판매량 예측 모델, 판담입니다.')\n",
    "    print('특정 일의 판매량 예측을 위한 8가지 질문을 시작하겠습니다.')\n",
    "    print('')\n",
    "\n",
    "    print('1번) CA, TX, WI 중 원하시는 주를 입력해주세요.')\n",
    "    state_id = input('주 입력 : ')\n",
    "    \n",
    "    if state_id == 'CA':\n",
    "        print('1번) 1 ~ 4 중 원하시는 지점 번호를 입력해주세요.')\n",
    "        store_num = input('지점 번호 입력 : ')\n",
    "        \n",
    "    else:\n",
    "        print('1번) 1 ~ 3 중 원하시는 지점 번호를 입력해주세요.')\n",
    "        store_num = input('지점 번호 입력 : ')\n",
    "        \n",
    "    store_id = state_id + '_' + store_num \n",
    "    print('')\n",
    "\n",
    "    print('2번) 1 ~ 3 중 원하시는 식품 분류 번호를 입력해주세요.')\n",
    "    dept_num = int(input('식품 분류 번호 입력 : '))\n",
    "    print('')\n",
    "\n",
    "    if dept_num==1:\n",
    "        print('3번) 1 ~ 219 중 원하시는 식품 id를 입력해주세요.')\n",
    "        item_id = int(input('식품 id 입력 : '))\n",
    "\n",
    "    elif dept_num==2:\n",
    "        print('3번) 1 ~ 399 중 원하시는 식품 id를 입력해주세요.')\n",
    "        item_id = int(input('식품 id 입력 : '))\n",
    "\n",
    "    elif dept_num==3:\n",
    "        print('3번) 1 ~ 827 중 원하시는 식품 id를 입력해주세요.')\n",
    "        item_id = int(input('식품 id 입력 : '))\n",
    "    else : raise Exception('범위 에러: FOODS_1은 1~ 219, FOODS_2은 1~ 399, FOODS_3은 1~ 827 으로 다시 입력해주세요.')\n",
    "    print('')\n",
    "\n",
    "    print('4번) 평일->0, 주말->1 중 원하시는 날짜의 구분 숫자를 입력해주세요.')\n",
    "    weekday = int(input('평일/주말 구분 숫자 입력 : '))\n",
    "    print('')\n",
    "\n",
    "    print('5번) 일반->0, 행사->1 중 원하시는 날짜의 행사유무 숫자를 입력해주세요.')\n",
    "    event = int(input('행사 유무 숫자 입력 : '))\n",
    "    print('')\n",
    "\n",
    "    print('6번) 원하시는 날짜의 기온을 입력해주세요.')\n",
    "    Temperatures = int(input('기온 입력(°C): '))\n",
    "    print('')\n",
    "\n",
    "    print('7번) 원하시는 날짜의 매장 당 인구 수를 입력해주세요.')\n",
    "    pop = int(input('매장 당 인구 입력(명): '))\n",
    "    print('')\n",
    "\n",
    "    print('8번) 원하시는 날짜의 실업률을 입력해주세요.')\n",
    "    unemployment_rate = int(input('실업률 입력(%): '))\n",
    "    print('')\n",
    "\n",
    "    print('========= 결과 출력 중 잠시만 기다려주세요.===========')\n",
    "    print('')\n",
    "    result = predict_item_id_sales(store_id, dept_num, item_id, weekday, event, Temperatures, pop, unemployment_rate)\n",
    "    print(f'입력하신 조건에 해당하는 일의 {store_id}지점 food_{dept_num}_{item_id} 판매량은 {result}입니다.')\n",
    "    print('')\n",
    "    print('이용해주셔서 감사합니다.')\n",
    "    print('===========================================')\n"
   ]
  },
  {
   "cell_type": "code",
   "execution_count": null,
   "metadata": {},
   "outputs": [
    {
     "name": "stdout",
     "output_type": "stream",
     "text": [
      "===========================================\n",
      "안녕하세요 판매량 예측 모델, 판담입니다.\n",
      "특정 일의 판매량 예측을 위한 8가지 질문을 시작하겠습니다.\n",
      "\n",
      "1번) CA, TX, WI 중 원하시는 주를 입력해주세요.\n",
      "주 입력 : TX\n",
      "1번) 1 ~ 3 중 원하시는 지점 번호를 입력해주세요.\n"
     ]
    }
   ],
   "source": [
    "print_result()"
   ]
  },
  {
   "cell_type": "code",
   "execution_count": 28,
   "metadata": {},
   "outputs": [
    {
     "name": "stdout",
     "output_type": "stream",
     "text": [
      "===========================================\n",
      "안녕하세요 판매량 예측 모델, 판담입니다.\n",
      "특정 일의 판매량 예측을 위한 8가지 질문을 시작하겠습니다.\n",
      "\n",
      "1번) CA, TX, WI 중 원하시는 주를 입력해주세요.\n",
      "주 입력 : CA\n",
      "\n",
      "2번) 1 ~ 3 중 원하시는 식품 분류 번호를 입력해주세요.\n",
      "식품 분류 번호 입력 : 3\n",
      "\n",
      "3번) 1 ~ 827 중 원하시는 식품 id를 입력해주세요.\n",
      "식품 id 입력 : 90\n",
      "\n",
      "4번) 평일->0, 주말->1 중 원하시는 날짜의 구분 숫자를 입력해주세요.\n",
      "평일/주말 구분 숫자 입력 : 1\n",
      "\n",
      "5번) 일반->0, 행사->1 중 원하시는 날짜의 행사유무 숫자를 입력해주세요.\n",
      "행사 유무 숫자 입력 : 1\n",
      "\n",
      "6번) 원하시는 날짜의 기온을 입력해주세요.\n",
      "기온 입력(°C): 30\n",
      "\n",
      "7번) 원하시는 날짜의 매장 당 인구 수를 입력해주세요.\n",
      "매장 당 인구 입력(명): 120800\n",
      "\n",
      "8번) 원하시는 날짜의 실업률을 입력해주세요.\n",
      "실업률 입력(%): 10\n",
      "\n",
      "========= 결과 출력 중 잠시만 기다려주세요.===========\n",
      "\n",
      "입력하신 조건에 해당하는 일의 food_3_90 판매량은 409입니다.\n",
      "\n",
      "이용해주셔서 감사합니다.\n",
      "===========================================\n"
     ]
    }
   ],
   "source": [
    "print('===========================================')\n",
    "print('안녕하세요 판매량 예측 모델, 판담입니다.')\n",
    "print('특정 일의 판매량 예측을 위한 8가지 질문을 시작하겠습니다.')\n",
    "print('')\n",
    "\n",
    "print('1번) CA, TX, WI 중 원하시는 주를 입력해주세요.')\n",
    "state_id = input('주 입력 : ')\n",
    "print('')\n",
    "\n",
    "print('2번) 1 ~ 3 중 원하시는 식품 분류 번호를 입력해주세요.')\n",
    "dept_num = int(input('식품 분류 번호 입력 : '))\n",
    "print('')\n",
    "\n",
    "if dept_num==1:\n",
    "    print('3번) 1 ~ 219 중 원하시는 식품 id를 입력해주세요.')\n",
    "    item_id = int(input('식품 id 입력 : '))\n",
    "    \n",
    "elif dept_num==2:\n",
    "    print('3번) 1 ~ 399 중 원하시는 식품 id를 입력해주세요.')\n",
    "    item_id = int(input('식품 id 입력 : '))\n",
    "    \n",
    "elif dept_num==3:\n",
    "    print('3번) 1 ~ 827 중 원하시는 식품 id를 입력해주세요.')\n",
    "    item_id = int(input('식품 id 입력 : '))\n",
    "else : raise Exception('범위 에러: FOODS_1은 1~ 219, FOODS_2은 1~ 399, FOODS_3은 1~ 827 으로 다시 입력해주세요.')\n",
    "print('')\n",
    "\n",
    "print('4번) 평일->0, 주말->1 중 원하시는 날짜의 구분 숫자를 입력해주세요.')\n",
    "weekday = int(input('평일/주말 구분 숫자 입력 : '))\n",
    "print('')\n",
    "\n",
    "print('5번) 일반->0, 행사->1 중 원하시는 날짜의 행사유무 숫자를 입력해주세요.')\n",
    "event = int(input('행사 유무 숫자 입력 : '))\n",
    "print('')\n",
    "\n",
    "print('6번) 원하시는 날짜의 기온을 입력해주세요.')\n",
    "Temperatures = int(input('기온 입력(°C): '))\n",
    "print('')\n",
    "\n",
    "print('7번) 원하시는 날짜의 매장 당 인구 수를 입력해주세요.')\n",
    "pop = int(input('매장 당 인구 입력(명): '))\n",
    "print('')\n",
    "\n",
    "print('8번) 원하시는 날짜의 실업률을 입력해주세요.')\n",
    "unemployment_rate = int(input('실업률 입력(%): '))\n",
    "print('')\n",
    "\n",
    "print('========= 결과 출력 중 잠시만 기다려주세요.===========')\n",
    "print('')\n",
    "result = predict_item_id_sales(state_id, dept_num, item_id, weekday, event, Temperatures, pop, unemployment_rate)\n",
    "print(f'입력하신 조건에 해당하는 일의 food_{dept_num}_{item_id} 판매량은 {result}입니다.')\n",
    "print('')\n",
    "print('이용해주셔서 감사합니다.')\n",
    "print('===========================================')\n"
   ]
  }
 ],
 "metadata": {
  "kernelspec": {
   "display_name": "Python 3 (ipykernel)",
   "language": "python",
   "name": "python3"
  },
  "language_info": {
   "codemirror_mode": {
    "name": "ipython",
    "version": 3
   },
   "file_extension": ".py",
   "mimetype": "text/x-python",
   "name": "python",
   "nbconvert_exporter": "python",
   "pygments_lexer": "ipython3",
   "version": "3.8.16"
  },
  "vscode": {
   "interpreter": {
    "hash": "1c82d1a80ee0d4ff8d4114458f1a4bf9de876e6d83c0940c915b29fd45e0fe5f"
   }
  }
 },
 "nbformat": 4,
 "nbformat_minor": 2
}
